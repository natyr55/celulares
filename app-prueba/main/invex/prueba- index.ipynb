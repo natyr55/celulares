{
 "cells": [
  {
   "cell_type": "code",
   "execution_count": null,
   "metadata": {},
   "outputs": [
    {
     "ename": "",
     "evalue": "",
     "output_type": "error",
     "traceback": [
      "\u001b[1;31mLa ejecución de celdas con 'Python 3.11.0 64-bit' requieren el paquete ipykernel.\n",
      "\u001b[1;31mEjecute el siguiente comando para instalar 'ipykernel' en el entorno de Python. comando \n",
      "\u001b[1;31m: 'c:/Users/Usuario/AppData/Local/Programs/Python/Python311/python.exe -m pip install ipykernel -U --user --force-reinstall'"
     ]
    }
   ],
   "source": [
    "#*********************************\n",
    "# Primer commit main app-prueba\n",
    "# subir a Github\n",
    "# index\n",
    "# ejecutable.exe\n",
    "# release: 26/10/2022\n",
    "# Developer: Natalia Rincon\n",
    "#**********************************\n",
    "\n",
    "# main - resources\n",
    "Marca = \"samsung\" , \"motorola\", \"iphone\", \"xioami\"\n",
    "\n",
    "Modelo = \"GALAXI A03\" ,  \"GALAXI A13\" ,\"GALAXI A33\" , \"GALAXI A22\", \"GALAXI A52\",\"GALAXI A32\" , \"GALAXI A53\", \\\n",
    "\"GALAXI S22 PLUS\",  \"GALAXI S22 ULTRA\", \"MOTOROLA MOTO G71\", \"MOTOROLA MOTO G22\", \"MOTOROLA MOTO G52\" , \\\n",
    "\"MOTOROLA EDGE 30\", \"MOTOROLA FUSION 5G\", \"MOTOROLA MOTO E20\", \"MOTOROLA MOTO E40\", \"MOTOROLA MOTO G41\", \\\n",
    "\"MOTOROLA MOTO G51 5G\", \"MOTOROLA MOTO G42\", \"MOTOROLA MOTO G82 5G\", \"MOTOROLA EDGE 30 5G\" ,  \"MOTOROLA EDGE 20 PRO 5G\", \\\n",
    "\"MOTOROLA EDGE 30 PRO REMOTE\", \"Motorola edge 30 pro STYLUS EDITION\", \"IPHONE 13\", \"IPHONE 13 PRO\", \"IPHONE 13 PRO MAX\",  \\\n",
    "\"IPHONE 11\", \"IPHONE 11 MINI\" , \"IPHONE 12\",\"IPHONE 12 PRO\", \"IPHONE 12 PRO MAX\" , \"Redmi Note 10 5G 128GB Graphite Gray\", \\\n",
    "\"Redmi Note 11S Twilight Blue 6GB RAM 128GB ROM\" , \"Xiaomi Redmi 10 6GB 128GB\", \"Xiaomi Redmi 10 4GB 128GB\" , \\\n",
    "\"Xiaomi Poco X4 Pro 6GB 128GB Yellow Sin Cargador\"\n",
    "\n",
    "Cantidad = \"CANT1 DE 1 A 5 UNIDADES\" , \"CANT2 DE 5 A 10 UNIDADES\" , \"CANT3 DE 10 A 15 UNIDADES\" , \"CANT4 MAS DE 15 UNIDADES\"\n",
    "\n",
    "Precio = \" RAN1 DE $30.000 A $45.000\" , \"RAN2 DE $45.000 A $60.000\" , \"RANGO3 MAS DE $60.000\"\n",
    "\n",
    "Color = \"NEGRO\" , \"AZUL\" , \"GRIS\" , \"ROJO\" , \"DORADO\"\n",
    "\n",
    "Zona = 1, 2, 3 \n",
    "\n",
    "#index\n",
    "\n",
    "Marca = input ( \"seleccione Marca\")\n",
    "print (\" usted selecciono,\" + Marca )\n",
    "\n",
    "Modelo = input (\" seleccione Modelo\")\n",
    "print (\" usted selecciono, \" + Modelo)\n",
    "\n",
    "Cantidad = input (\"seleccion cantidad\")\n",
    "print (\"usted selecciono \" + Cantidad)\n",
    "\n",
    "Precio = input (\" seleccione precio\")\n",
    "print (\"Usted selecciono\" + Precio )\n",
    "\n",
    "Color = input (\" seleccione color\")\n",
    "print (\"Usted selecciono color\" + Color )\n",
    "\n",
    "Zona = input (\" seleccione zona\")\n",
    "print (\"Usted selecciono\" + Zona)\n",
    "\n",
    "\n",
    "\n",
    "\n",
    "\n",
    "\n",
    "\n",
    "\n",
    "\n",
    "\n",
    "\n"
   ]
  }
 ],
 "metadata": {
  "kernelspec": {
   "display_name": "Python 3.11.0 64-bit",
   "language": "python",
   "name": "python3"
  },
  "language_info": {
   "name": "python",
   "version": "3.11.0"
  },
  "orig_nbformat": 4,
  "vscode": {
   "interpreter": {
    "hash": "c812eb984687e98b7686c463c3fae2045e58b2a2b4e065b3dcebe3cb7d51662e"
   }
  }
 },
 "nbformat": 4,
 "nbformat_minor": 2
}
